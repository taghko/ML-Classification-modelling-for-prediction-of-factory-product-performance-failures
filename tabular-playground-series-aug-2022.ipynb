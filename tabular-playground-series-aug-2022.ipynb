{
 "cells": [
  {
   "cell_type": "code",
   "execution_count": 1,
   "id": "46ffa6ba",
   "metadata": {
    "_cell_guid": "b1076dfc-b9ad-4769-8c92-a6c4dae69d19",
    "_uuid": "8f2839f25d086af736a60e9eeb907d3b93b6e0e5",
    "execution": {
     "iopub.execute_input": "2022-08-12T04:48:16.831770Z",
     "iopub.status.busy": "2022-08-12T04:48:16.831303Z",
     "iopub.status.idle": "2022-08-12T04:48:18.069899Z",
     "shell.execute_reply": "2022-08-12T04:48:18.068480Z"
    },
    "papermill": {
     "duration": 1.252583,
     "end_time": "2022-08-12T04:48:18.073053",
     "exception": false,
     "start_time": "2022-08-12T04:48:16.820470",
     "status": "completed"
    },
    "tags": []
   },
   "outputs": [],
   "source": [
    "import numpy as np\n",
    "import pandas as pd \n",
    "from pandas import read_csv\n",
    "import seaborn as sns\n",
    "import matplotlib.pyplot as plt\n",
    "%matplotlib inline\n",
    "\n",
    "import os\n",
    "import random\n",
    "random.seed(108)\n",
    "import datetime"
   ]
  },
  {
   "cell_type": "code",
   "execution_count": 2,
   "id": "9836ba8e",
   "metadata": {
    "execution": {
     "iopub.execute_input": "2022-08-12T04:48:18.091540Z",
     "iopub.status.busy": "2022-08-12T04:48:18.090362Z",
     "iopub.status.idle": "2022-08-12T04:48:18.100373Z",
     "shell.execute_reply": "2022-08-12T04:48:18.099038Z"
    },
    "papermill": {
     "duration": 0.021465,
     "end_time": "2022-08-12T04:48:18.102816",
     "exception": false,
     "start_time": "2022-08-12T04:48:18.081351",
     "status": "completed"
    },
    "tags": []
   },
   "outputs": [
    {
     "data": {
      "text/plain": [
       "'/kaggle/working'"
      ]
     },
     "execution_count": 2,
     "metadata": {},
     "output_type": "execute_result"
    }
   ],
   "source": [
    "os.getcwd()"
   ]
  },
  {
   "cell_type": "code",
   "execution_count": 3,
   "id": "8dec1526",
   "metadata": {
    "execution": {
     "iopub.execute_input": "2022-08-12T04:48:18.120924Z",
     "iopub.status.busy": "2022-08-12T04:48:18.120523Z",
     "iopub.status.idle": "2022-08-12T04:48:18.302097Z",
     "shell.execute_reply": "2022-08-12T04:48:18.300735Z"
    },
    "papermill": {
     "duration": 0.193684,
     "end_time": "2022-08-12T04:48:18.304811",
     "exception": false,
     "start_time": "2022-08-12T04:48:18.111127",
     "status": "completed"
    },
    "tags": []
   },
   "outputs": [],
   "source": [
    "df = pd.read_csv('../input/tabular-playground-series-aug-2022/train.csv',index_col='id')"
   ]
  },
  {
   "cell_type": "code",
   "execution_count": 4,
   "id": "9a6369f3",
   "metadata": {
    "execution": {
     "iopub.execute_input": "2022-08-12T04:48:18.322270Z",
     "iopub.status.busy": "2022-08-12T04:48:18.321474Z",
     "iopub.status.idle": "2022-08-12T04:48:18.356236Z",
     "shell.execute_reply": "2022-08-12T04:48:18.355296Z"
    },
    "papermill": {
     "duration": 0.04581,
     "end_time": "2022-08-12T04:48:18.358367",
     "exception": false,
     "start_time": "2022-08-12T04:48:18.312557",
     "status": "completed"
    },
    "tags": []
   },
   "outputs": [
    {
     "data": {
      "text/html": [
       "<div>\n",
       "<style scoped>\n",
       "    .dataframe tbody tr th:only-of-type {\n",
       "        vertical-align: middle;\n",
       "    }\n",
       "\n",
       "    .dataframe tbody tr th {\n",
       "        vertical-align: top;\n",
       "    }\n",
       "\n",
       "    .dataframe thead th {\n",
       "        text-align: right;\n",
       "    }\n",
       "</style>\n",
       "<table border=\"1\" class=\"dataframe\">\n",
       "  <thead>\n",
       "    <tr style=\"text-align: right;\">\n",
       "      <th></th>\n",
       "      <th>product_code</th>\n",
       "      <th>loading</th>\n",
       "      <th>attribute_0</th>\n",
       "      <th>attribute_1</th>\n",
       "      <th>attribute_2</th>\n",
       "      <th>attribute_3</th>\n",
       "      <th>measurement_0</th>\n",
       "      <th>measurement_1</th>\n",
       "      <th>measurement_2</th>\n",
       "      <th>measurement_3</th>\n",
       "      <th>...</th>\n",
       "      <th>measurement_9</th>\n",
       "      <th>measurement_10</th>\n",
       "      <th>measurement_11</th>\n",
       "      <th>measurement_12</th>\n",
       "      <th>measurement_13</th>\n",
       "      <th>measurement_14</th>\n",
       "      <th>measurement_15</th>\n",
       "      <th>measurement_16</th>\n",
       "      <th>measurement_17</th>\n",
       "      <th>failure</th>\n",
       "    </tr>\n",
       "    <tr>\n",
       "      <th>id</th>\n",
       "      <th></th>\n",
       "      <th></th>\n",
       "      <th></th>\n",
       "      <th></th>\n",
       "      <th></th>\n",
       "      <th></th>\n",
       "      <th></th>\n",
       "      <th></th>\n",
       "      <th></th>\n",
       "      <th></th>\n",
       "      <th></th>\n",
       "      <th></th>\n",
       "      <th></th>\n",
       "      <th></th>\n",
       "      <th></th>\n",
       "      <th></th>\n",
       "      <th></th>\n",
       "      <th></th>\n",
       "      <th></th>\n",
       "      <th></th>\n",
       "      <th></th>\n",
       "    </tr>\n",
       "  </thead>\n",
       "  <tbody>\n",
       "    <tr>\n",
       "      <th>0</th>\n",
       "      <td>A</td>\n",
       "      <td>80.10</td>\n",
       "      <td>material_7</td>\n",
       "      <td>material_8</td>\n",
       "      <td>9</td>\n",
       "      <td>5</td>\n",
       "      <td>7</td>\n",
       "      <td>8</td>\n",
       "      <td>4</td>\n",
       "      <td>18.040</td>\n",
       "      <td>...</td>\n",
       "      <td>10.672</td>\n",
       "      <td>15.859</td>\n",
       "      <td>17.594</td>\n",
       "      <td>15.193</td>\n",
       "      <td>15.029</td>\n",
       "      <td>NaN</td>\n",
       "      <td>13.034</td>\n",
       "      <td>14.684</td>\n",
       "      <td>764.100</td>\n",
       "      <td>0</td>\n",
       "    </tr>\n",
       "    <tr>\n",
       "      <th>1</th>\n",
       "      <td>A</td>\n",
       "      <td>84.89</td>\n",
       "      <td>material_7</td>\n",
       "      <td>material_8</td>\n",
       "      <td>9</td>\n",
       "      <td>5</td>\n",
       "      <td>14</td>\n",
       "      <td>3</td>\n",
       "      <td>3</td>\n",
       "      <td>18.213</td>\n",
       "      <td>...</td>\n",
       "      <td>12.448</td>\n",
       "      <td>17.947</td>\n",
       "      <td>17.915</td>\n",
       "      <td>11.755</td>\n",
       "      <td>14.732</td>\n",
       "      <td>15.425</td>\n",
       "      <td>14.395</td>\n",
       "      <td>15.631</td>\n",
       "      <td>682.057</td>\n",
       "      <td>0</td>\n",
       "    </tr>\n",
       "    <tr>\n",
       "      <th>2</th>\n",
       "      <td>A</td>\n",
       "      <td>82.43</td>\n",
       "      <td>material_7</td>\n",
       "      <td>material_8</td>\n",
       "      <td>9</td>\n",
       "      <td>5</td>\n",
       "      <td>12</td>\n",
       "      <td>1</td>\n",
       "      <td>5</td>\n",
       "      <td>18.057</td>\n",
       "      <td>...</td>\n",
       "      <td>12.715</td>\n",
       "      <td>15.607</td>\n",
       "      <td>NaN</td>\n",
       "      <td>13.798</td>\n",
       "      <td>16.711</td>\n",
       "      <td>18.631</td>\n",
       "      <td>14.094</td>\n",
       "      <td>17.946</td>\n",
       "      <td>663.376</td>\n",
       "      <td>0</td>\n",
       "    </tr>\n",
       "    <tr>\n",
       "      <th>3</th>\n",
       "      <td>A</td>\n",
       "      <td>101.07</td>\n",
       "      <td>material_7</td>\n",
       "      <td>material_8</td>\n",
       "      <td>9</td>\n",
       "      <td>5</td>\n",
       "      <td>13</td>\n",
       "      <td>2</td>\n",
       "      <td>6</td>\n",
       "      <td>17.295</td>\n",
       "      <td>...</td>\n",
       "      <td>12.471</td>\n",
       "      <td>16.346</td>\n",
       "      <td>18.377</td>\n",
       "      <td>10.020</td>\n",
       "      <td>15.250</td>\n",
       "      <td>15.562</td>\n",
       "      <td>16.154</td>\n",
       "      <td>17.172</td>\n",
       "      <td>826.282</td>\n",
       "      <td>0</td>\n",
       "    </tr>\n",
       "    <tr>\n",
       "      <th>4</th>\n",
       "      <td>A</td>\n",
       "      <td>188.06</td>\n",
       "      <td>material_7</td>\n",
       "      <td>material_8</td>\n",
       "      <td>9</td>\n",
       "      <td>5</td>\n",
       "      <td>9</td>\n",
       "      <td>2</td>\n",
       "      <td>8</td>\n",
       "      <td>19.346</td>\n",
       "      <td>...</td>\n",
       "      <td>10.337</td>\n",
       "      <td>17.082</td>\n",
       "      <td>19.932</td>\n",
       "      <td>12.428</td>\n",
       "      <td>16.182</td>\n",
       "      <td>12.760</td>\n",
       "      <td>13.153</td>\n",
       "      <td>16.412</td>\n",
       "      <td>579.885</td>\n",
       "      <td>0</td>\n",
       "    </tr>\n",
       "  </tbody>\n",
       "</table>\n",
       "<p>5 rows × 25 columns</p>\n",
       "</div>"
      ],
      "text/plain": [
       "   product_code  loading attribute_0 attribute_1  attribute_2  attribute_3  \\\n",
       "id                                                                           \n",
       "0             A    80.10  material_7  material_8            9            5   \n",
       "1             A    84.89  material_7  material_8            9            5   \n",
       "2             A    82.43  material_7  material_8            9            5   \n",
       "3             A   101.07  material_7  material_8            9            5   \n",
       "4             A   188.06  material_7  material_8            9            5   \n",
       "\n",
       "    measurement_0  measurement_1  measurement_2  measurement_3  ...  \\\n",
       "id                                                              ...   \n",
       "0               7              8              4         18.040  ...   \n",
       "1              14              3              3         18.213  ...   \n",
       "2              12              1              5         18.057  ...   \n",
       "3              13              2              6         17.295  ...   \n",
       "4               9              2              8         19.346  ...   \n",
       "\n",
       "    measurement_9  measurement_10  measurement_11  measurement_12  \\\n",
       "id                                                                  \n",
       "0          10.672          15.859          17.594          15.193   \n",
       "1          12.448          17.947          17.915          11.755   \n",
       "2          12.715          15.607             NaN          13.798   \n",
       "3          12.471          16.346          18.377          10.020   \n",
       "4          10.337          17.082          19.932          12.428   \n",
       "\n",
       "    measurement_13  measurement_14  measurement_15  measurement_16  \\\n",
       "id                                                                   \n",
       "0           15.029             NaN          13.034          14.684   \n",
       "1           14.732          15.425          14.395          15.631   \n",
       "2           16.711          18.631          14.094          17.946   \n",
       "3           15.250          15.562          16.154          17.172   \n",
       "4           16.182          12.760          13.153          16.412   \n",
       "\n",
       "    measurement_17  failure  \n",
       "id                           \n",
       "0          764.100        0  \n",
       "1          682.057        0  \n",
       "2          663.376        0  \n",
       "3          826.282        0  \n",
       "4          579.885        0  \n",
       "\n",
       "[5 rows x 25 columns]"
      ]
     },
     "execution_count": 4,
     "metadata": {},
     "output_type": "execute_result"
    }
   ],
   "source": [
    "df.head(5)"
   ]
  },
  {
   "cell_type": "code",
   "execution_count": 5,
   "id": "be682a34",
   "metadata": {
    "execution": {
     "iopub.execute_input": "2022-08-12T04:48:18.376665Z",
     "iopub.status.busy": "2022-08-12T04:48:18.375956Z",
     "iopub.status.idle": "2022-08-12T04:48:18.390357Z",
     "shell.execute_reply": "2022-08-12T04:48:18.389101Z"
    },
    "papermill": {
     "duration": 0.026404,
     "end_time": "2022-08-12T04:48:18.392898",
     "exception": false,
     "start_time": "2022-08-12T04:48:18.366494",
     "status": "completed"
    },
    "tags": []
   },
   "outputs": [
    {
     "data": {
      "text/plain": [
       "product_code         0\n",
       "loading            250\n",
       "attribute_0          0\n",
       "attribute_1          0\n",
       "attribute_2          0\n",
       "attribute_3          0\n",
       "measurement_0        0\n",
       "measurement_1        0\n",
       "measurement_2        0\n",
       "measurement_3      381\n",
       "measurement_4      538\n",
       "measurement_5      676\n",
       "measurement_6      796\n",
       "measurement_7      937\n",
       "measurement_8     1048\n",
       "measurement_9     1227\n",
       "measurement_10    1300\n",
       "measurement_11    1468\n",
       "measurement_12    1601\n",
       "measurement_13    1774\n",
       "measurement_14    1874\n",
       "measurement_15    2009\n",
       "measurement_16    2110\n",
       "measurement_17    2284\n",
       "failure              0\n",
       "dtype: int64"
      ]
     },
     "execution_count": 5,
     "metadata": {},
     "output_type": "execute_result"
    }
   ],
   "source": [
    "df.isna().sum()"
   ]
  },
  {
   "cell_type": "code",
   "execution_count": 6,
   "id": "70358e8a",
   "metadata": {
    "execution": {
     "iopub.execute_input": "2022-08-12T04:48:18.411930Z",
     "iopub.status.busy": "2022-08-12T04:48:18.411521Z",
     "iopub.status.idle": "2022-08-12T04:48:18.576727Z",
     "shell.execute_reply": "2022-08-12T04:48:18.575585Z"
    },
    "papermill": {
     "duration": 0.177531,
     "end_time": "2022-08-12T04:48:18.579172",
     "exception": false,
     "start_time": "2022-08-12T04:48:18.401641",
     "status": "completed"
    },
    "tags": []
   },
   "outputs": [
    {
     "data": {
      "text/plain": [
       "product_code      0\n",
       "loading           0\n",
       "attribute_0       0\n",
       "attribute_1       0\n",
       "attribute_2       0\n",
       "attribute_3       0\n",
       "measurement_0     0\n",
       "measurement_1     0\n",
       "measurement_2     0\n",
       "measurement_3     0\n",
       "measurement_4     0\n",
       "measurement_5     0\n",
       "measurement_6     0\n",
       "measurement_7     0\n",
       "measurement_8     0\n",
       "measurement_9     0\n",
       "measurement_10    0\n",
       "measurement_11    0\n",
       "measurement_12    0\n",
       "measurement_13    0\n",
       "measurement_14    0\n",
       "measurement_15    0\n",
       "measurement_16    0\n",
       "measurement_17    0\n",
       "failure           0\n",
       "dtype: int64"
      ]
     },
     "execution_count": 6,
     "metadata": {},
     "output_type": "execute_result"
    }
   ],
   "source": [
    "# Imputing Missing Values\n",
    "from sklearn.base import TransformerMixin\n",
    "class DataFrameImputer(TransformerMixin):\n",
    "\n",
    "    def __init__(self):\n",
    "        \"\"\"Columns of dtype object are imputed with the most frequent value in column. Columns of other types are imputed with mean of column.\"\"\"\n",
    "    def fit(self, X, y=None):\n",
    "        self.fill = pd.Series([X[c].value_counts().index[0]\n",
    "            if X[c].dtype == np.dtype('O') else X[c].mean() for c in \n",
    "            X],index=X.columns)\n",
    "        return self\n",
    "    def transform(self, X, y=None):\n",
    "        return X.fillna(self.fill)\n",
    "X = pd.DataFrame(df) \n",
    "df = DataFrameImputer().fit_transform(X)\n",
    "df.isna().sum()"
   ]
  },
  {
   "cell_type": "markdown",
   "id": "52f7493f",
   "metadata": {
    "papermill": {
     "duration": 0.00905,
     "end_time": "2022-08-12T04:48:18.600162",
     "exception": false,
     "start_time": "2022-08-12T04:48:18.591112",
     "status": "completed"
    },
    "tags": []
   },
   "source": [
    "Categorical Features vs. Target — Grouped Bar Chart"
   ]
  },
  {
   "cell_type": "code",
   "execution_count": 7,
   "id": "2c0c1944",
   "metadata": {
    "execution": {
     "iopub.execute_input": "2022-08-12T04:48:18.624531Z",
     "iopub.status.busy": "2022-08-12T04:48:18.623183Z",
     "iopub.status.idle": "2022-08-12T04:48:19.162671Z",
     "shell.execute_reply": "2022-08-12T04:48:19.161446Z"
    },
    "papermill": {
     "duration": 0.553786,
     "end_time": "2022-08-12T04:48:19.165192",
     "exception": false,
     "start_time": "2022-08-12T04:48:18.611406",
     "status": "completed"
    },
    "tags": []
   },
   "outputs": [
    {
     "data": {
      "image/png": "[encoded data removed]",
      "text/plain": [
       "<Figure size 1152x576 with 3 Axes>"
      ]
     },
     "metadata": {
      "needs_background": "light"
     },
     "output_type": "display_data"
    }
   ],
   "source": [
    "# bar plot \n",
    "\n",
    "cat_list = ['product_code', 'attribute_0', 'attribute_1']\n",
    "fig = plt.figure(figsize = (16,8))\n",
    "\n",
    "for i in range(len(cat_list)): \n",
    "    column = cat_list[i]\n",
    "    sub = fig.add_subplot(2,4, i+1)\n",
    "    chart = sns.countplot(data = df, x=column, hue='failure', palette='RdYlBu')"
   ]
  },
  {
   "cell_type": "code",
   "execution_count": 8,
   "id": "386bc524",
   "metadata": {
    "execution": {
     "iopub.execute_input": "2022-08-12T04:48:19.184751Z",
     "iopub.status.busy": "2022-08-12T04:48:19.184330Z",
     "iopub.status.idle": "2022-08-12T04:48:22.828525Z",
     "shell.execute_reply": "2022-08-12T04:48:22.827263Z"
    },
    "papermill": {
     "duration": 3.656882,
     "end_time": "2022-08-12T04:48:22.831082",
     "exception": false,
     "start_time": "2022-08-12T04:48:19.174200",
     "status": "completed"
    },
    "tags": []
   },
   "outputs": [
    {
     "data": {
      "image/png": "[encoded data removed]",
      "text/plain": [
       "<Figure size 432x432 with 1 Axes>"
      ]
     },
     "metadata": {
      "needs_background": "light"
     },
     "output_type": "display_data"
    },
    {
     "data": {
      "image/png": "[encoded data removed]",
      "text/plain": [
       "<Figure size 432x432 with 1 Axes>"
      ]
     },
     "metadata": {
      "needs_background": "light"
     },
     "output_type": "display_data"
    },
    {
     "data": {
      "image/png": "[encoded data removed]",
      "text/plain": [
       "<Figure size 432x432 with 1 Axes>"
      ]
     },
     "metadata": {
      "needs_background": "light"
     },
     "output_type": "display_data"
    },
    {
     "data": {
      "image/png": "[encoded data removed]",
      "text/plain": [
       "<Figure size 432x432 with 1 Axes>"
      ]
     },
     "metadata": {
      "needs_background": "light"
     },
     "output_type": "display_data"
    },
    {
     "data": {
      "image/png": "[encoded data removed]",
      "text/plain": [
       "<Figure size 432x432 with 1 Axes>"
      ]
     },
     "metadata": {
      "needs_background": "light"
     },
     "output_type": "display_data"
    },
    {
     "data": {
      "image/png": "[encoded data removed]",
      "text/plain": [
       "<Figure size 432x432 with 1 Axes>"
      ]
     },
     "metadata": {
      "needs_background": "light"
     },
     "output_type": "display_data"
    },
    {
     "data": {
      "image/png": "[encoded data removed]",
      "text/plain": [
       "<Figure size 432x432 with 1 Axes>"
      ]
     },
     "metadata": {
      "needs_background": "light"
     },
     "output_type": "display_data"
    },
    {
     "data": {
      "image/png": "[encoded data removed]",
      "text/plain": [
       "<Figure size 432x432 with 1 Axes>"
      ]
     },
     "metadata": {
      "needs_background": "light"
     },
     "output_type": "display_data"
    },
    {
     "data": {
      "image/png": "[encoded data removed]",
      "text/plain": [
       "<Figure size 432x432 with 1 Axes>"
      ]
     },
     "metadata": {
      "needs_background": "light"
     },
     "output_type": "display_data"
    },
    {
     "data": {
      "image/png": "[encoded data removed]",
      "text/plain": [
       "<Figure size 432x432 with 1 Axes>"
      ]
     },
     "metadata": {
      "needs_background": "light"
     },
     "output_type": "display_data"
    },
    {
     "data": {
      "image/png": "[encoded data removed]",
      "text/plain": [
       "<Figure size 432x432 with 1 Axes>"
      ]
     },
     "metadata": {
      "needs_background": "light"
     },
     "output_type": "display_data"
    },
    {
     "data": {
      "image/png": "[encoded data removed]",
      "text/plain": [
       "<Figure size 432x432 with 1 Axes>"
      ]
     },
     "metadata": {
      "needs_background": "light"
     },
     "output_type": "display_data"
    },
    {
     "data": {
      "image/png": "[encoded data removed]",
      "text/plain": [
       "<Figure size 432x432 with 1 Axes>"
      ]
     },
     "metadata": {
      "needs_background": "light"
     },
     "output_type": "display_data"
    },
    {
     "data": {
      "image/png": "[encoded data removed]",
      "text/plain": [
       "<Figure size 432x432 with 1 Axes>"
      ]
     },
     "metadata": {
      "needs_background": "light"
     },
     "output_type": "display_data"
    },
    {
     "data": {
      "image/png": "[encoded data removed]",
      "text/plain": [
       "<Figure size 432x432 with 1 Axes>"
      ]
     },
     "metadata": {
      "needs_background": "light"
     },
     "output_type": "display_data"
    },
    {
     "data": {
      "image/png": "[encoded data removed]",
      "text/plain": [
       "<Figure size 432x432 with 1 Axes>"
      ]
     },
     "metadata": {
      "needs_background": "light"
     },
     "output_type": "display_data"
    },
    {
     "data": {
      "image/png": "[encoded data removed]",
      "text/plain": [
       "<Figure size 432x432 with 1 Axes>"
      ]
     },
     "metadata": {
      "needs_background": "light"
     },
     "output_type": "display_data"
    },
    {
     "data": {
      "image/png": "[encoded data removed]",
      "text/plain": [
       "<Figure size 432x432 with 1 Axes>"
      ]
     },
     "metadata": {
      "needs_background": "light"
     },
     "output_type": "display_data"
    },
    {
     "data": {
      "image/png": "[encoded data removed]",
      "text/plain": [
       "<Figure size 432x432 with 1 Axes>"
      ]
     },
     "metadata": {
      "needs_background": "light"
     },
     "output_type": "display_data"
    }
   ],
   "source": [
    "# box plot\n",
    "\n",
    "from matplotlib import pyplot as plt\n",
    "%matplotlib inline\n",
    "\n",
    "num_list = ['loading', 'attribute_2', 'measurement_1','measurement_2', 'measurement_3', 'measurement_4', 'measurement_5', 'measurement_6', 'measurement_7', 'measurement_8', 'measurement_9', 'measurement_10', 'measurement_11', 'measurement_12', 'measurement_13', 'measurement_14', 'measurement_15', 'measurement_16', 'measurement_17']\n",
    "for col in num_list:\n",
    "    df.boxplot(column=col, by='failure', figsize=(6,6))\n",
    "    plt.title(col)\n",
    "plt.show() "
   ]
  },
  {
   "cell_type": "code",
   "execution_count": 9,
   "id": "a098b013",
   "metadata": {
    "execution": {
     "iopub.execute_input": "2022-08-12T04:48:22.864647Z",
     "iopub.status.busy": "2022-08-12T04:48:22.863787Z",
     "iopub.status.idle": "2022-08-12T04:48:22.884867Z",
     "shell.execute_reply": "2022-08-12T04:48:22.883912Z"
    },
    "papermill": {
     "duration": 0.040077,
     "end_time": "2022-08-12T04:48:22.887562",
     "exception": false,
     "start_time": "2022-08-12T04:48:22.847485",
     "status": "completed"
    },
    "tags": []
   },
   "outputs": [],
   "source": [
    "#get all categorical columns\n",
    "cat_columns = df.select_dtypes(['object']).columns\n",
    "\n",
    "#convert all categorical columns to numeric\n",
    "df[cat_columns] = df[cat_columns].apply(lambda x: pd.factorize(x)[0])"
   ]
  },
  {
   "cell_type": "code",
   "execution_count": 10,
   "id": "e4f5cb07",
   "metadata": {
    "execution": {
     "iopub.execute_input": "2022-08-12T04:48:22.918854Z",
     "iopub.status.busy": "2022-08-12T04:48:22.918447Z",
     "iopub.status.idle": "2022-08-12T04:48:22.939132Z",
     "shell.execute_reply": "2022-08-12T04:48:22.937362Z"
    },
    "papermill": {
     "duration": 0.040172,
     "end_time": "2022-08-12T04:48:22.941962",
     "exception": false,
     "start_time": "2022-08-12T04:48:22.901790",
     "status": "completed"
    },
    "tags": []
   },
   "outputs": [
    {
     "name": "stdout",
     "output_type": "stream",
     "text": [
      "failed : 21.260820474219045 %\n",
      "non Failed : 78.73917952578095 %\n"
     ]
    }
   ],
   "source": [
    "All = df.shape[0]\n",
    "failed = df[df['failure'] == 1]\n",
    "nonFailed = df[df['failure'] == 0]\n",
    "\n",
    "x = len(failed)/All\n",
    "y = len(nonFailed)/All\n",
    "\n",
    "print('failed :',x*100,'%')\n",
    "print('non Failed :',y*100,'%')"
   ]
  },
  {
   "cell_type": "code",
   "execution_count": 11,
   "id": "c41fe50f",
   "metadata": {
    "execution": {
     "iopub.execute_input": "2022-08-12T04:48:22.973911Z",
     "iopub.status.busy": "2022-08-12T04:48:22.973486Z",
     "iopub.status.idle": "2022-08-12T04:48:23.121631Z",
     "shell.execute_reply": "2022-08-12T04:48:23.120292Z"
    },
    "papermill": {
     "duration": 0.168102,
     "end_time": "2022-08-12T04:48:23.125007",
     "exception": false,
     "start_time": "2022-08-12T04:48:22.956905",
     "status": "completed"
    },
    "tags": []
   },
   "outputs": [
    {
     "data": {
      "text/plain": [
       "Text(0, 0.5, 'Frequency')"
      ]
     },
     "execution_count": 11,
     "metadata": {},
     "output_type": "execute_result"
    },
    {
     "data": {
      "image/png": "[encoded data removed]",
      "text/plain": [
       "<Figure size 432x288 with 1 Axes>"
      ]
     },
     "metadata": {
      "needs_background": "light"
     },
     "output_type": "display_data"
    }
   ],
   "source": [
    "\n",
    "# Let's plot the Transaction class against the Frequency\n",
    "labels = ['non Failed','failed']\n",
    "classes = pd.value_counts(df['failure'], sort = True)\n",
    "classes.plot(kind = 'bar', rot=0)\n",
    "plt.title(\"Transaction failure distribution\")\n",
    "plt.xticks(range(2), labels)\n",
    "plt.xlabel(\"failure\")\n",
    "plt.ylabel(\"Frequency\")"
   ]
  },
  {
   "cell_type": "code",
   "execution_count": 12,
   "id": "13618daf",
   "metadata": {
    "execution": {
     "iopub.execute_input": "2022-08-12T04:48:23.158356Z",
     "iopub.status.busy": "2022-08-12T04:48:23.157186Z",
     "iopub.status.idle": "2022-08-12T04:48:23.901754Z",
     "shell.execute_reply": "2022-08-12T04:48:23.900569Z"
    },
    "papermill": {
     "duration": 0.764642,
     "end_time": "2022-08-12T04:48:23.904874",
     "exception": false,
     "start_time": "2022-08-12T04:48:23.140232",
     "status": "completed"
    },
    "tags": []
   },
   "outputs": [
    {
     "data": {
      "image/png": "[encoded data removed]",
      "text/plain": [
       "<Figure size 864x648 with 2 Axes>"
      ]
     },
     "metadata": {
      "needs_background": "light"
     },
     "output_type": "display_data"
    }
   ],
   "source": [
    "# heat map of correlation of features\n",
    "correlation_matrix = df.corr()\n",
    "fig = plt.figure(figsize=(12,9))\n",
    "sns.heatmap(correlation_matrix,vmax=0.8,square = True)\n",
    "plt.show()"
   ]
  },
  {
   "cell_type": "code",
   "execution_count": 13,
   "id": "77940fa1",
   "metadata": {
    "execution": {
     "iopub.execute_input": "2022-08-12T04:48:23.938250Z",
     "iopub.status.busy": "2022-08-12T04:48:23.937193Z",
     "iopub.status.idle": "2022-08-12T04:48:23.949554Z",
     "shell.execute_reply": "2022-08-12T04:48:23.948573Z"
    },
    "papermill": {
     "duration": 0.031581,
     "end_time": "2022-08-12T04:48:23.952106",
     "exception": false,
     "start_time": "2022-08-12T04:48:23.920525",
     "status": "completed"
    },
    "tags": []
   },
   "outputs": [],
   "source": [
    "# Separate features and labels\n",
    "features = ['attribute_2', 'loading', 'measurement_0', 'measurement_1','measurement_2', 'measurement_3', \n",
    "            'measurement_4', 'measurement_5', 'measurement_6', 'measurement_7', \n",
    "            'measurement_8', 'measurement_9', 'measurement_10', 'measurement_11', \n",
    "            'measurement_12', 'measurement_13', 'measurement_14', 'measurement_15', \n",
    "            'measurement_16', 'measurement_17']\n",
    "label = 'failure'\n",
    "\n",
    "X, y = df[features].values, df[label].values"
   ]
  },
  {
   "cell_type": "code",
   "execution_count": 14,
   "id": "90b4f731",
   "metadata": {
    "execution": {
     "iopub.execute_input": "2022-08-12T04:48:23.985308Z",
     "iopub.status.busy": "2022-08-12T04:48:23.984601Z",
     "iopub.status.idle": "2022-08-12T04:48:24.110491Z",
     "shell.execute_reply": "2022-08-12T04:48:24.109060Z"
    },
    "papermill": {
     "duration": 0.14667,
     "end_time": "2022-08-12T04:48:24.114346",
     "exception": false,
     "start_time": "2022-08-12T04:48:23.967676",
     "status": "completed"
    },
    "tags": []
   },
   "outputs": [
    {
     "name": "stdout",
     "output_type": "stream",
     "text": [
      "Training cases: 18599\n",
      "Test cases: 7971\n"
     ]
    }
   ],
   "source": [
    "from sklearn.model_selection import train_test_split\n",
    "\n",
    "# Split data 70%-30% into training set and test set\n",
    "X_train, X_test, y_train, y_test = train_test_split(X, y, test_size=0.30, random_state=0)\n",
    "\n",
    "print ('Training cases: %d\\nTest cases: %d' % (X_train.shape[0], X_test.shape[0]))"
   ]
  },
  {
   "cell_type": "code",
   "execution_count": 15,
   "id": "4ed2f806",
   "metadata": {
    "execution": {
     "iopub.execute_input": "2022-08-12T04:48:24.148124Z",
     "iopub.status.busy": "2022-08-12T04:48:24.147351Z",
     "iopub.status.idle": "2022-08-12T04:48:24.478553Z",
     "shell.execute_reply": "2022-08-12T04:48:24.477362Z"
    },
    "papermill": {
     "duration": 0.350916,
     "end_time": "2022-08-12T04:48:24.481198",
     "exception": false,
     "start_time": "2022-08-12T04:48:24.130282",
     "status": "completed"
    },
    "tags": []
   },
   "outputs": [
    {
     "name": "stdout",
     "output_type": "stream",
     "text": [
      "Pipeline(steps=[('preprocessor',\n",
      "                 ColumnTransformer(transformers=[('num',\n",
      "                                                  Pipeline(steps=[('scaler',\n",
      "                                                                   StandardScaler())]),\n",
      "                                                  [0, 1, 2, 3, 4, 5, 6]),\n",
      "                                                 ('cat',\n",
      "                                                  Pipeline(steps=[('onehot',\n",
      "                                                                   OneHotEncoder(handle_unknown='ignore'))]),\n",
      "                                                  [2])])),\n",
      "                ('logregressor',\n",
      "                 LogisticRegression(C=100.0, solver='liblinear'))])\n"
     ]
    }
   ],
   "source": [
    "from sklearn.compose import ColumnTransformer\n",
    "from sklearn.pipeline import Pipeline\n",
    "from sklearn.preprocessing import StandardScaler, OneHotEncoder\n",
    "from sklearn.linear_model import LogisticRegression\n",
    "import numpy as np\n",
    "\n",
    "# Define preprocessing for numeric columns (normalize them so they're on the same scale)\n",
    "num_list = [0,1,2,3,4,5,6]\n",
    "numeric_transformer = Pipeline(steps=[\n",
    "    ('scaler', StandardScaler())])\n",
    "\n",
    "# Define preprocessing for categorical features\n",
    "cat_list = [2]\n",
    "categorical_transformer = Pipeline(steps=[\n",
    "    ('onehot', OneHotEncoder(handle_unknown='ignore'))])\n",
    "\n",
    "# Combine preprocessing steps\n",
    "preprocessor = ColumnTransformer(\n",
    "    transformers=[\n",
    "        ('num', numeric_transformer, num_list),\n",
    "        ('cat', categorical_transformer, cat_list)])\n",
    "\n",
    "\n",
    "# Create preprocessing and training pipeline\n",
    "reg = 0.01\n",
    "pipeline = Pipeline(steps=[('preprocessor', preprocessor),\n",
    "                           ('logregressor', LogisticRegression(C=1/reg, solver=\"liblinear\"))])\n",
    "\n",
    "# fit the pipeline to train a random forest model on the training set\n",
    "model = pipeline.fit(X_train, (y_train))\n",
    "print (model)"
   ]
  },
  {
   "cell_type": "code",
   "execution_count": 16,
   "id": "d5de8da0",
   "metadata": {
    "execution": {
     "iopub.execute_input": "2022-08-12T04:48:24.515303Z",
     "iopub.status.busy": "2022-08-12T04:48:24.514853Z",
     "iopub.status.idle": "2022-08-12T04:48:24.704343Z",
     "shell.execute_reply": "2022-08-12T04:48:24.703007Z"
    },
    "papermill": {
     "duration": 0.209945,
     "end_time": "2022-08-12T04:48:24.707334",
     "exception": false,
     "start_time": "2022-08-12T04:48:24.497389",
     "status": "completed"
    },
    "tags": []
   },
   "outputs": [
    {
     "name": "stdout",
     "output_type": "stream",
     "text": [
      "Confusion Matrix:\n",
      " [[6290    8]\n",
      " [1668    5]] \n",
      "\n",
      "Accuracy: 0.7897377995232718\n",
      "Overall Precision: 0.38461538461538464\n",
      "Overall Recall: 0.002988643156007173\n",
      "\n",
      "AUC: 0.5918959842088789\n"
     ]
    },
    {
     "data": {
      "image/png": "[encoded data removed]",
      "text/plain": [
       "<Figure size 432x432 with 1 Axes>"
      ]
     },
     "metadata": {
      "needs_background": "light"
     },
     "output_type": "display_data"
    }
   ],
   "source": [
    "from sklearn.metrics import precision_score, recall_score\n",
    "from sklearn.metrics import roc_curve\n",
    "from sklearn.metrics import accuracy_score\n",
    "from sklearn.metrics import roc_auc_score\n",
    "from sklearn.metrics import classification_report \n",
    "from sklearn.metrics import confusion_matrix \n",
    "\n",
    "predictions = model.predict(X_test)\n",
    "y_scores = model.predict_proba(X_test)\n",
    "cm = confusion_matrix(y_test, predictions)\n",
    "print ('Confusion Matrix:\\n',cm, '\\n')\n",
    "print('Accuracy:', accuracy_score(y_test, predictions))\n",
    "print(\"Overall Precision:\",precision_score(y_test, predictions))\n",
    "print(\"Overall Recall:\",recall_score(y_test, predictions))\n",
    "auc = roc_auc_score(y_test,y_scores[:,1])\n",
    "print('\\nAUC: ' + str(auc))\n",
    "\n",
    "# calculate ROC curve\n",
    "fpr, tpr, thresholds = roc_curve(y_test, y_scores[:,1])\n",
    "\n",
    "# plot ROC curve\n",
    "fig = plt.figure(figsize=(6, 6))\n",
    "# Plot the diagonal 50% line\n",
    "plt.plot([0, 1], [0, 1], 'k--')\n",
    "# Plot the FPR and TPR achieved by our model\n",
    "plt.plot(fpr, tpr)\n",
    "plt.xlabel('False Positive Rate')\n",
    "plt.ylabel('True Positive Rate')\n",
    "plt.title('ROC Curve')\n",
    "plt.show()"
   ]
  },
  {
   "cell_type": "code",
   "execution_count": 17,
   "id": "7999c1ce",
   "metadata": {
    "execution": {
     "iopub.execute_input": "2022-08-12T04:48:24.743100Z",
     "iopub.status.busy": "2022-08-12T04:48:24.742398Z",
     "iopub.status.idle": "2022-08-12T04:48:24.884148Z",
     "shell.execute_reply": "2022-08-12T04:48:24.883192Z"
    },
    "papermill": {
     "duration": 0.162683,
     "end_time": "2022-08-12T04:48:24.886541",
     "exception": false,
     "start_time": "2022-08-12T04:48:24.723858",
     "status": "completed"
    },
    "tags": []
   },
   "outputs": [
    {
     "data": {
      "text/html": [
       "<div>\n",
       "<style scoped>\n",
       "    .dataframe tbody tr th:only-of-type {\n",
       "        vertical-align: middle;\n",
       "    }\n",
       "\n",
       "    .dataframe tbody tr th {\n",
       "        vertical-align: top;\n",
       "    }\n",
       "\n",
       "    .dataframe thead th {\n",
       "        text-align: right;\n",
       "    }\n",
       "</style>\n",
       "<table border=\"1\" class=\"dataframe\">\n",
       "  <thead>\n",
       "    <tr style=\"text-align: right;\">\n",
       "      <th></th>\n",
       "      <th>product_code</th>\n",
       "      <th>loading</th>\n",
       "      <th>attribute_0</th>\n",
       "      <th>attribute_1</th>\n",
       "      <th>attribute_2</th>\n",
       "      <th>attribute_3</th>\n",
       "      <th>measurement_0</th>\n",
       "      <th>measurement_1</th>\n",
       "      <th>measurement_2</th>\n",
       "      <th>measurement_3</th>\n",
       "      <th>...</th>\n",
       "      <th>measurement_8</th>\n",
       "      <th>measurement_9</th>\n",
       "      <th>measurement_10</th>\n",
       "      <th>measurement_11</th>\n",
       "      <th>measurement_12</th>\n",
       "      <th>measurement_13</th>\n",
       "      <th>measurement_14</th>\n",
       "      <th>measurement_15</th>\n",
       "      <th>measurement_16</th>\n",
       "      <th>measurement_17</th>\n",
       "    </tr>\n",
       "    <tr>\n",
       "      <th>id</th>\n",
       "      <th></th>\n",
       "      <th></th>\n",
       "      <th></th>\n",
       "      <th></th>\n",
       "      <th></th>\n",
       "      <th></th>\n",
       "      <th></th>\n",
       "      <th></th>\n",
       "      <th></th>\n",
       "      <th></th>\n",
       "      <th></th>\n",
       "      <th></th>\n",
       "      <th></th>\n",
       "      <th></th>\n",
       "      <th></th>\n",
       "      <th></th>\n",
       "      <th></th>\n",
       "      <th></th>\n",
       "      <th></th>\n",
       "      <th></th>\n",
       "      <th></th>\n",
       "    </tr>\n",
       "  </thead>\n",
       "  <tbody>\n",
       "    <tr>\n",
       "      <th>26570</th>\n",
       "      <td>F</td>\n",
       "      <td>119.57</td>\n",
       "      <td>material_5</td>\n",
       "      <td>material_6</td>\n",
       "      <td>6</td>\n",
       "      <td>4</td>\n",
       "      <td>6</td>\n",
       "      <td>9</td>\n",
       "      <td>6</td>\n",
       "      <td>19.305</td>\n",
       "      <td>...</td>\n",
       "      <td>18.654</td>\n",
       "      <td>10.802</td>\n",
       "      <td>15.909</td>\n",
       "      <td>18.070</td>\n",
       "      <td>13.772</td>\n",
       "      <td>13.659</td>\n",
       "      <td>16.825</td>\n",
       "      <td>13.742</td>\n",
       "      <td>17.710</td>\n",
       "      <td>634.612</td>\n",
       "    </tr>\n",
       "    <tr>\n",
       "      <th>26571</th>\n",
       "      <td>F</td>\n",
       "      <td>113.51</td>\n",
       "      <td>material_5</td>\n",
       "      <td>material_6</td>\n",
       "      <td>6</td>\n",
       "      <td>4</td>\n",
       "      <td>11</td>\n",
       "      <td>8</td>\n",
       "      <td>0</td>\n",
       "      <td>17.883</td>\n",
       "      <td>...</td>\n",
       "      <td>19.368</td>\n",
       "      <td>12.032</td>\n",
       "      <td>13.998</td>\n",
       "      <td>NaN</td>\n",
       "      <td>12.473</td>\n",
       "      <td>17.468</td>\n",
       "      <td>16.708</td>\n",
       "      <td>14.776</td>\n",
       "      <td>14.102</td>\n",
       "      <td>537.037</td>\n",
       "    </tr>\n",
       "    <tr>\n",
       "      <th>26572</th>\n",
       "      <td>F</td>\n",
       "      <td>112.16</td>\n",
       "      <td>material_5</td>\n",
       "      <td>material_6</td>\n",
       "      <td>6</td>\n",
       "      <td>4</td>\n",
       "      <td>8</td>\n",
       "      <td>12</td>\n",
       "      <td>4</td>\n",
       "      <td>18.475</td>\n",
       "      <td>...</td>\n",
       "      <td>17.774</td>\n",
       "      <td>11.743</td>\n",
       "      <td>17.046</td>\n",
       "      <td>18.086</td>\n",
       "      <td>10.907</td>\n",
       "      <td>13.363</td>\n",
       "      <td>15.737</td>\n",
       "      <td>17.065</td>\n",
       "      <td>16.021</td>\n",
       "      <td>658.995</td>\n",
       "    </tr>\n",
       "    <tr>\n",
       "      <th>26573</th>\n",
       "      <td>F</td>\n",
       "      <td>112.72</td>\n",
       "      <td>material_5</td>\n",
       "      <td>material_6</td>\n",
       "      <td>6</td>\n",
       "      <td>4</td>\n",
       "      <td>8</td>\n",
       "      <td>11</td>\n",
       "      <td>10</td>\n",
       "      <td>16.518</td>\n",
       "      <td>...</td>\n",
       "      <td>18.948</td>\n",
       "      <td>11.790</td>\n",
       "      <td>18.165</td>\n",
       "      <td>16.163</td>\n",
       "      <td>10.933</td>\n",
       "      <td>15.501</td>\n",
       "      <td>15.667</td>\n",
       "      <td>12.620</td>\n",
       "      <td>16.111</td>\n",
       "      <td>594.301</td>\n",
       "    </tr>\n",
       "    <tr>\n",
       "      <th>26574</th>\n",
       "      <td>F</td>\n",
       "      <td>208.00</td>\n",
       "      <td>material_5</td>\n",
       "      <td>material_6</td>\n",
       "      <td>6</td>\n",
       "      <td>4</td>\n",
       "      <td>14</td>\n",
       "      <td>16</td>\n",
       "      <td>8</td>\n",
       "      <td>17.808</td>\n",
       "      <td>...</td>\n",
       "      <td>19.141</td>\n",
       "      <td>12.370</td>\n",
       "      <td>14.578</td>\n",
       "      <td>17.849</td>\n",
       "      <td>11.941</td>\n",
       "      <td>16.070</td>\n",
       "      <td>16.183</td>\n",
       "      <td>13.324</td>\n",
       "      <td>17.150</td>\n",
       "      <td>801.044</td>\n",
       "    </tr>\n",
       "  </tbody>\n",
       "</table>\n",
       "<p>5 rows × 24 columns</p>\n",
       "</div>"
      ],
      "text/plain": [
       "      product_code  loading attribute_0 attribute_1  attribute_2  attribute_3  \\\n",
       "id                                                                              \n",
       "26570            F   119.57  material_5  material_6            6            4   \n",
       "26571            F   113.51  material_5  material_6            6            4   \n",
       "26572            F   112.16  material_5  material_6            6            4   \n",
       "26573            F   112.72  material_5  material_6            6            4   \n",
       "26574            F   208.00  material_5  material_6            6            4   \n",
       "\n",
       "       measurement_0  measurement_1  measurement_2  measurement_3  ...  \\\n",
       "id                                                                 ...   \n",
       "26570              6              9              6         19.305  ...   \n",
       "26571             11              8              0         17.883  ...   \n",
       "26572              8             12              4         18.475  ...   \n",
       "26573              8             11             10         16.518  ...   \n",
       "26574             14             16              8         17.808  ...   \n",
       "\n",
       "       measurement_8  measurement_9  measurement_10  measurement_11  \\\n",
       "id                                                                    \n",
       "26570         18.654         10.802          15.909          18.070   \n",
       "26571         19.368         12.032          13.998             NaN   \n",
       "26572         17.774         11.743          17.046          18.086   \n",
       "26573         18.948         11.790          18.165          16.163   \n",
       "26574         19.141         12.370          14.578          17.849   \n",
       "\n",
       "       measurement_12  measurement_13  measurement_14  measurement_15  \\\n",
       "id                                                                      \n",
       "26570          13.772          13.659          16.825          13.742   \n",
       "26571          12.473          17.468          16.708          14.776   \n",
       "26572          10.907          13.363          15.737          17.065   \n",
       "26573          10.933          15.501          15.667          12.620   \n",
       "26574          11.941          16.070          16.183          13.324   \n",
       "\n",
       "       measurement_16  measurement_17  \n",
       "id                                     \n",
       "26570          17.710         634.612  \n",
       "26571          14.102         537.037  \n",
       "26572          16.021         658.995  \n",
       "26573          16.111         594.301  \n",
       "26574          17.150         801.044  \n",
       "\n",
       "[5 rows x 24 columns]"
      ]
     },
     "execution_count": 17,
     "metadata": {},
     "output_type": "execute_result"
    }
   ],
   "source": [
    "test = pd.read_csv('../input/tabular-playground-series-aug-2022/test.csv', index_col='id')\n",
    "test.head()"
   ]
  },
  {
   "cell_type": "code",
   "execution_count": 18,
   "id": "b7274505",
   "metadata": {
    "execution": {
     "iopub.execute_input": "2022-08-12T04:48:24.923355Z",
     "iopub.status.busy": "2022-08-12T04:48:24.922238Z",
     "iopub.status.idle": "2022-08-12T04:48:24.950710Z",
     "shell.execute_reply": "2022-08-12T04:48:24.949435Z"
    },
    "papermill": {
     "duration": 0.048934,
     "end_time": "2022-08-12T04:48:24.952966",
     "exception": false,
     "start_time": "2022-08-12T04:48:24.904032",
     "status": "completed"
    },
    "tags": []
   },
   "outputs": [
    {
     "data": {
      "text/html": [
       "<div>\n",
       "<style scoped>\n",
       "    .dataframe tbody tr th:only-of-type {\n",
       "        vertical-align: middle;\n",
       "    }\n",
       "\n",
       "    .dataframe tbody tr th {\n",
       "        vertical-align: top;\n",
       "    }\n",
       "\n",
       "    .dataframe thead th {\n",
       "        text-align: right;\n",
       "    }\n",
       "</style>\n",
       "<table border=\"1\" class=\"dataframe\">\n",
       "  <thead>\n",
       "    <tr style=\"text-align: right;\">\n",
       "      <th></th>\n",
       "      <th>loading</th>\n",
       "      <th>attribute_2</th>\n",
       "      <th>measurement_0</th>\n",
       "      <th>measurement_1</th>\n",
       "      <th>measurement_2</th>\n",
       "      <th>measurement_3</th>\n",
       "      <th>measurement_4</th>\n",
       "      <th>measurement_5</th>\n",
       "      <th>measurement_6</th>\n",
       "      <th>measurement_7</th>\n",
       "      <th>measurement_8</th>\n",
       "      <th>measurement_9</th>\n",
       "      <th>measurement_10</th>\n",
       "      <th>measurement_11</th>\n",
       "      <th>measurement_12</th>\n",
       "      <th>measurement_13</th>\n",
       "      <th>measurement_14</th>\n",
       "      <th>measurement_15</th>\n",
       "      <th>measurement_16</th>\n",
       "      <th>measurement_17</th>\n",
       "    </tr>\n",
       "    <tr>\n",
       "      <th>id</th>\n",
       "      <th></th>\n",
       "      <th></th>\n",
       "      <th></th>\n",
       "      <th></th>\n",
       "      <th></th>\n",
       "      <th></th>\n",
       "      <th></th>\n",
       "      <th></th>\n",
       "      <th></th>\n",
       "      <th></th>\n",
       "      <th></th>\n",
       "      <th></th>\n",
       "      <th></th>\n",
       "      <th></th>\n",
       "      <th></th>\n",
       "      <th></th>\n",
       "      <th></th>\n",
       "      <th></th>\n",
       "      <th></th>\n",
       "      <th></th>\n",
       "    </tr>\n",
       "  </thead>\n",
       "  <tbody>\n",
       "    <tr>\n",
       "      <th>26570</th>\n",
       "      <td>119.57</td>\n",
       "      <td>6</td>\n",
       "      <td>6</td>\n",
       "      <td>9</td>\n",
       "      <td>6</td>\n",
       "      <td>19.305</td>\n",
       "      <td>10.178</td>\n",
       "      <td>17.534</td>\n",
       "      <td>18.168</td>\n",
       "      <td>11.598</td>\n",
       "      <td>18.654</td>\n",
       "      <td>10.802</td>\n",
       "      <td>15.909</td>\n",
       "      <td>18.070</td>\n",
       "      <td>13.772</td>\n",
       "      <td>13.659</td>\n",
       "      <td>16.825</td>\n",
       "      <td>13.742</td>\n",
       "      <td>17.710</td>\n",
       "      <td>634.612</td>\n",
       "    </tr>\n",
       "    <tr>\n",
       "      <th>26571</th>\n",
       "      <td>113.51</td>\n",
       "      <td>6</td>\n",
       "      <td>11</td>\n",
       "      <td>8</td>\n",
       "      <td>0</td>\n",
       "      <td>17.883</td>\n",
       "      <td>11.927</td>\n",
       "      <td>17.228</td>\n",
       "      <td>16.033</td>\n",
       "      <td>11.179</td>\n",
       "      <td>19.368</td>\n",
       "      <td>12.032</td>\n",
       "      <td>13.998</td>\n",
       "      <td>NaN</td>\n",
       "      <td>12.473</td>\n",
       "      <td>17.468</td>\n",
       "      <td>16.708</td>\n",
       "      <td>14.776</td>\n",
       "      <td>14.102</td>\n",
       "      <td>537.037</td>\n",
       "    </tr>\n",
       "    <tr>\n",
       "      <th>26572</th>\n",
       "      <td>112.16</td>\n",
       "      <td>6</td>\n",
       "      <td>8</td>\n",
       "      <td>12</td>\n",
       "      <td>4</td>\n",
       "      <td>18.475</td>\n",
       "      <td>10.481</td>\n",
       "      <td>16.619</td>\n",
       "      <td>18.189</td>\n",
       "      <td>12.126</td>\n",
       "      <td>17.774</td>\n",
       "      <td>11.743</td>\n",
       "      <td>17.046</td>\n",
       "      <td>18.086</td>\n",
       "      <td>10.907</td>\n",
       "      <td>13.363</td>\n",
       "      <td>15.737</td>\n",
       "      <td>17.065</td>\n",
       "      <td>16.021</td>\n",
       "      <td>658.995</td>\n",
       "    </tr>\n",
       "    <tr>\n",
       "      <th>26573</th>\n",
       "      <td>112.72</td>\n",
       "      <td>6</td>\n",
       "      <td>8</td>\n",
       "      <td>11</td>\n",
       "      <td>10</td>\n",
       "      <td>16.518</td>\n",
       "      <td>10.888</td>\n",
       "      <td>15.293</td>\n",
       "      <td>18.592</td>\n",
       "      <td>11.304</td>\n",
       "      <td>18.948</td>\n",
       "      <td>11.790</td>\n",
       "      <td>18.165</td>\n",
       "      <td>16.163</td>\n",
       "      <td>10.933</td>\n",
       "      <td>15.501</td>\n",
       "      <td>15.667</td>\n",
       "      <td>12.620</td>\n",
       "      <td>16.111</td>\n",
       "      <td>594.301</td>\n",
       "    </tr>\n",
       "    <tr>\n",
       "      <th>26574</th>\n",
       "      <td>208.00</td>\n",
       "      <td>6</td>\n",
       "      <td>14</td>\n",
       "      <td>16</td>\n",
       "      <td>8</td>\n",
       "      <td>17.808</td>\n",
       "      <td>12.693</td>\n",
       "      <td>17.678</td>\n",
       "      <td>15.814</td>\n",
       "      <td>13.431</td>\n",
       "      <td>19.141</td>\n",
       "      <td>12.370</td>\n",
       "      <td>14.578</td>\n",
       "      <td>17.849</td>\n",
       "      <td>11.941</td>\n",
       "      <td>16.070</td>\n",
       "      <td>16.183</td>\n",
       "      <td>13.324</td>\n",
       "      <td>17.150</td>\n",
       "      <td>801.044</td>\n",
       "    </tr>\n",
       "  </tbody>\n",
       "</table>\n",
       "</div>"
      ],
      "text/plain": [
       "       loading  attribute_2  measurement_0  measurement_1  measurement_2  \\\n",
       "id                                                                         \n",
       "26570   119.57            6              6              9              6   \n",
       "26571   113.51            6             11              8              0   \n",
       "26572   112.16            6              8             12              4   \n",
       "26573   112.72            6              8             11             10   \n",
       "26574   208.00            6             14             16              8   \n",
       "\n",
       "       measurement_3  measurement_4  measurement_5  measurement_6  \\\n",
       "id                                                                  \n",
       "26570         19.305         10.178         17.534         18.168   \n",
       "26571         17.883         11.927         17.228         16.033   \n",
       "26572         18.475         10.481         16.619         18.189   \n",
       "26573         16.518         10.888         15.293         18.592   \n",
       "26574         17.808         12.693         17.678         15.814   \n",
       "\n",
       "       measurement_7  measurement_8  measurement_9  measurement_10  \\\n",
       "id                                                                   \n",
       "26570         11.598         18.654         10.802          15.909   \n",
       "26571         11.179         19.368         12.032          13.998   \n",
       "26572         12.126         17.774         11.743          17.046   \n",
       "26573         11.304         18.948         11.790          18.165   \n",
       "26574         13.431         19.141         12.370          14.578   \n",
       "\n",
       "       measurement_11  measurement_12  measurement_13  measurement_14  \\\n",
       "id                                                                      \n",
       "26570          18.070          13.772          13.659          16.825   \n",
       "26571             NaN          12.473          17.468          16.708   \n",
       "26572          18.086          10.907          13.363          15.737   \n",
       "26573          16.163          10.933          15.501          15.667   \n",
       "26574          17.849          11.941          16.070          16.183   \n",
       "\n",
       "       measurement_15  measurement_16  measurement_17  \n",
       "id                                                     \n",
       "26570          13.742          17.710         634.612  \n",
       "26571          14.776          14.102         537.037  \n",
       "26572          17.065          16.021         658.995  \n",
       "26573          12.620          16.111         594.301  \n",
       "26574          13.324          17.150         801.044  "
      ]
     },
     "execution_count": 18,
     "metadata": {},
     "output_type": "execute_result"
    }
   ],
   "source": [
    "test = test.drop(['product_code', 'attribute_0', 'attribute_1', 'attribute_3'], axis=1)\n",
    "test.head()"
   ]
  },
  {
   "cell_type": "code",
   "execution_count": 19,
   "id": "6f259c0d",
   "metadata": {
    "execution": {
     "iopub.execute_input": "2022-08-12T04:48:24.990107Z",
     "iopub.status.busy": "2022-08-12T04:48:24.989358Z",
     "iopub.status.idle": "2022-08-12T04:48:25.017054Z",
     "shell.execute_reply": "2022-08-12T04:48:25.015869Z"
    },
    "papermill": {
     "duration": 0.049507,
     "end_time": "2022-08-12T04:48:25.019542",
     "exception": false,
     "start_time": "2022-08-12T04:48:24.970035",
     "status": "completed"
    },
    "tags": []
   },
   "outputs": [
    {
     "data": {
      "text/plain": [
       "loading           0\n",
       "attribute_2       0\n",
       "measurement_0     0\n",
       "measurement_1     0\n",
       "measurement_2     0\n",
       "measurement_3     0\n",
       "measurement_4     0\n",
       "measurement_5     0\n",
       "measurement_6     0\n",
       "measurement_7     0\n",
       "measurement_8     0\n",
       "measurement_9     0\n",
       "measurement_10    0\n",
       "measurement_11    0\n",
       "measurement_12    0\n",
       "measurement_13    0\n",
       "measurement_14    0\n",
       "measurement_15    0\n",
       "measurement_16    0\n",
       "measurement_17    0\n",
       "dtype: int64"
      ]
     },
     "execution_count": 19,
     "metadata": {},
     "output_type": "execute_result"
    }
   ],
   "source": [
    "# Imputing Missing Values\n",
    "from sklearn.base import TransformerMixin\n",
    "class DataFrameImputer(TransformerMixin):\n",
    "\n",
    "    def __init__(self):\n",
    "        \"\"\"Columns of dtype object are imputed with the most frequent value in column. Columns of other types are imputed with mean of column.\"\"\"\n",
    "    def fit(self, X, y=None):\n",
    "        self.fill = pd.Series([X[c].value_counts().index[0]\n",
    "            if X[c].dtype == np.dtype('O') else X[c].mean() for c in \n",
    "            X],index=X.columns)\n",
    "        return self\n",
    "    def transform(self, X, y=None):\n",
    "        return X.fillna(self.fill)\n",
    "X = pd.DataFrame(test) \n",
    "test = DataFrameImputer().fit_transform(X)\n",
    "test.isna().sum()"
   ]
  },
  {
   "cell_type": "code",
   "execution_count": 20,
   "id": "c6755cae",
   "metadata": {
    "execution": {
     "iopub.execute_input": "2022-08-12T04:48:25.056836Z",
     "iopub.status.busy": "2022-08-12T04:48:25.055746Z",
     "iopub.status.idle": "2022-08-12T04:48:25.070716Z",
     "shell.execute_reply": "2022-08-12T04:48:25.069419Z"
    },
    "papermill": {
     "duration": 0.036425,
     "end_time": "2022-08-12T04:48:25.073751",
     "exception": false,
     "start_time": "2022-08-12T04:48:25.037326",
     "status": "completed"
    },
    "tags": []
   },
   "outputs": [],
   "source": [
    "scale_test = StandardScaler() \n",
    "scale_test.fit(test)\n",
    "test_features=scale_test.transform(test)"
   ]
  },
  {
   "cell_type": "code",
   "execution_count": 21,
   "id": "c5ebe9c1",
   "metadata": {
    "execution": {
     "iopub.execute_input": "2022-08-12T04:48:25.111572Z",
     "iopub.status.busy": "2022-08-12T04:48:25.109470Z",
     "iopub.status.idle": "2022-08-12T04:48:25.129137Z",
     "shell.execute_reply": "2022-08-12T04:48:25.128257Z"
    },
    "papermill": {
     "duration": 0.041107,
     "end_time": "2022-08-12T04:48:25.131953",
     "exception": false,
     "start_time": "2022-08-12T04:48:25.090846",
     "status": "completed"
    },
    "tags": []
   },
   "outputs": [],
   "source": [
    "test_pred = model.predict(test_features)"
   ]
  },
  {
   "cell_type": "code",
   "execution_count": 22,
   "id": "98b740c7",
   "metadata": {
    "execution": {
     "iopub.execute_input": "2022-08-12T04:48:25.168884Z",
     "iopub.status.busy": "2022-08-12T04:48:25.168472Z",
     "iopub.status.idle": "2022-08-12T04:48:25.174713Z",
     "shell.execute_reply": "2022-08-12T04:48:25.173863Z"
    },
    "papermill": {
     "duration": 0.027662,
     "end_time": "2022-08-12T04:48:25.177067",
     "exception": false,
     "start_time": "2022-08-12T04:48:25.149405",
     "status": "completed"
    },
    "tags": []
   },
   "outputs": [],
   "source": [
    "test['failure'] = test_pred"
   ]
  },
  {
   "cell_type": "code",
   "execution_count": 23,
   "id": "947d7d9d",
   "metadata": {
    "execution": {
     "iopub.execute_input": "2022-08-12T04:48:25.214220Z",
     "iopub.status.busy": "2022-08-12T04:48:25.213336Z",
     "iopub.status.idle": "2022-08-12T04:48:25.251064Z",
     "shell.execute_reply": "2022-08-12T04:48:25.250216Z"
    },
    "papermill": {
     "duration": 0.058534,
     "end_time": "2022-08-12T04:48:25.253233",
     "exception": false,
     "start_time": "2022-08-12T04:48:25.194699",
     "status": "completed"
    },
    "tags": []
   },
   "outputs": [
    {
     "data": {
      "text/html": [
       "<div>\n",
       "<style scoped>\n",
       "    .dataframe tbody tr th:only-of-type {\n",
       "        vertical-align: middle;\n",
       "    }\n",
       "\n",
       "    .dataframe tbody tr th {\n",
       "        vertical-align: top;\n",
       "    }\n",
       "\n",
       "    .dataframe thead th {\n",
       "        text-align: right;\n",
       "    }\n",
       "</style>\n",
       "<table border=\"1\" class=\"dataframe\">\n",
       "  <thead>\n",
       "    <tr style=\"text-align: right;\">\n",
       "      <th></th>\n",
       "      <th>id</th>\n",
       "      <th>failure</th>\n",
       "    </tr>\n",
       "    <tr>\n",
       "      <th>id</th>\n",
       "      <th></th>\n",
       "      <th></th>\n",
       "    </tr>\n",
       "  </thead>\n",
       "  <tbody>\n",
       "    <tr>\n",
       "      <th>26570</th>\n",
       "      <td>26570</td>\n",
       "      <td>0</td>\n",
       "    </tr>\n",
       "    <tr>\n",
       "      <th>26571</th>\n",
       "      <td>26571</td>\n",
       "      <td>0</td>\n",
       "    </tr>\n",
       "    <tr>\n",
       "      <th>26572</th>\n",
       "      <td>26572</td>\n",
       "      <td>0</td>\n",
       "    </tr>\n",
       "    <tr>\n",
       "      <th>26573</th>\n",
       "      <td>26573</td>\n",
       "      <td>0</td>\n",
       "    </tr>\n",
       "    <tr>\n",
       "      <th>26574</th>\n",
       "      <td>26574</td>\n",
       "      <td>0</td>\n",
       "    </tr>\n",
       "    <tr>\n",
       "      <th>...</th>\n",
       "      <td>...</td>\n",
       "      <td>...</td>\n",
       "    </tr>\n",
       "    <tr>\n",
       "      <th>47340</th>\n",
       "      <td>47340</td>\n",
       "      <td>0</td>\n",
       "    </tr>\n",
       "    <tr>\n",
       "      <th>47341</th>\n",
       "      <td>47341</td>\n",
       "      <td>0</td>\n",
       "    </tr>\n",
       "    <tr>\n",
       "      <th>47342</th>\n",
       "      <td>47342</td>\n",
       "      <td>0</td>\n",
       "    </tr>\n",
       "    <tr>\n",
       "      <th>47343</th>\n",
       "      <td>47343</td>\n",
       "      <td>0</td>\n",
       "    </tr>\n",
       "    <tr>\n",
       "      <th>47344</th>\n",
       "      <td>47344</td>\n",
       "      <td>0</td>\n",
       "    </tr>\n",
       "  </tbody>\n",
       "</table>\n",
       "<p>20775 rows × 2 columns</p>\n",
       "</div>"
      ],
      "text/plain": [
       "          id  failure\n",
       "id                   \n",
       "26570  26570        0\n",
       "26571  26571        0\n",
       "26572  26572        0\n",
       "26573  26573        0\n",
       "26574  26574        0\n",
       "...      ...      ...\n",
       "47340  47340        0\n",
       "47341  47341        0\n",
       "47342  47342        0\n",
       "47343  47343        0\n",
       "47344  47344        0\n",
       "\n",
       "[20775 rows x 2 columns]"
      ]
     },
     "execution_count": 23,
     "metadata": {},
     "output_type": "execute_result"
    }
   ],
   "source": [
    "submission = pd.DataFrame({'id':test.index, 'failure': test['failure']})\n",
    "submission.to_csv('subKT1.csv', index=False)\n",
    "submission"
   ]
  },
  {
   "cell_type": "code",
   "execution_count": 24,
   "id": "acaec739",
   "metadata": {
    "execution": {
     "iopub.execute_input": "2022-08-12T04:48:25.290110Z",
     "iopub.status.busy": "2022-08-12T04:48:25.288811Z",
     "iopub.status.idle": "2022-08-12T04:48:25.310108Z",
     "shell.execute_reply": "2022-08-12T04:48:25.308808Z"
    },
    "papermill": {
     "duration": 0.042195,
     "end_time": "2022-08-12T04:48:25.312711",
     "exception": false,
     "start_time": "2022-08-12T04:48:25.270516",
     "status": "completed"
    },
    "tags": []
   },
   "outputs": [
    {
     "name": "stdout",
     "output_type": "stream",
     "text": [
      "              precision    recall  f1-score   support\n",
      "\n",
      "           0       0.79      1.00      0.88      6298\n",
      "           1       0.38      0.00      0.01      1673\n",
      "\n",
      "    accuracy                           0.79      7971\n",
      "   macro avg       0.59      0.50      0.44      7971\n",
      "weighted avg       0.71      0.79      0.70      7971\n",
      "\n"
     ]
    }
   ],
   "source": [
    "from sklearn. metrics import classification_report\n",
    "\n",
    "print(classification_report(y_test, predictions))"
   ]
  },
  {
   "cell_type": "code",
   "execution_count": 25,
   "id": "0879530f",
   "metadata": {
    "execution": {
     "iopub.execute_input": "2022-08-12T04:48:25.349254Z",
     "iopub.status.busy": "2022-08-12T04:48:25.348486Z",
     "iopub.status.idle": "2022-08-12T04:48:25.539151Z",
     "shell.execute_reply": "2022-08-12T04:48:25.537994Z"
    },
    "papermill": {
     "duration": 0.212801,
     "end_time": "2022-08-12T04:48:25.542666",
     "exception": false,
     "start_time": "2022-08-12T04:48:25.329865",
     "status": "completed"
    },
    "tags": []
   },
   "outputs": [],
   "source": [
    "from sklearn.linear_model import LogisticRegression\n",
    "from sklearn.svm import SVC\n",
    "from sklearn.neighbors import KNeighborsClassifier \n",
    "from sklearn.tree import DecisionTreeClassifier \n",
    "from sklearn.ensemble import RandomForestClassifier \n",
    "from sklearn.naive_bayes import GaussianNB\n",
    "\n",
    "model_pipeline = []\n",
    "model_pipeline.append(LogisticRegression(solver='liblinear'))\n",
    "model_pipeline.append(SVC())\n",
    "model_pipeline.append(KNeighborsClassifier())\n",
    "model_pipeline.append(DecisionTreeClassifier())\n",
    "model_pipeline.append(RandomForestClassifier())\n",
    "model_pipeline.append(GaussianNB())"
   ]
  },
  {
   "cell_type": "code",
   "execution_count": 26,
   "id": "9ae5ec0a",
   "metadata": {
    "execution": {
     "iopub.execute_input": "2022-08-12T04:48:25.578654Z",
     "iopub.status.busy": "2022-08-12T04:48:25.578273Z",
     "iopub.status.idle": "2022-08-12T04:48:53.863094Z",
     "shell.execute_reply": "2022-08-12T04:48:53.861893Z"
    },
    "papermill": {
     "duration": 28.305993,
     "end_time": "2022-08-12T04:48:53.866018",
     "exception": false,
     "start_time": "2022-08-12T04:48:25.560025",
     "status": "completed"
    },
    "tags": []
   },
   "outputs": [],
   "source": [
    "from sklearn import metrics \n",
    "from sklearn.metrics import classification_report \n",
    "from sklearn.metrics import confusion_matrix \n",
    "\n",
    "model_list = ['LogisticRegression', 'SVC', 'KNN', 'Decision Tree', 'Random Forest', 'Naive Bayes']\n",
    "acc_list = []\n",
    "auc_list = []\n",
    "cm_list = []\n",
    "\n",
    "for model in model_pipeline:\n",
    "    model.fit(X_train, y_train)\n",
    "    y_pred = model.predict(X_test)\n",
    "    acc_list.append(metrics.accuracy_score(y_test, y_pred))\n",
    "    fpr, tpr, _thresholds = metrics.roc_curve(y_test, y_pred)\n",
    "    auc_list.append(round(metrics.auc(fpr, tpr),2))\n",
    "    cm_list.append(confusion_matrix(y_test, y_pred))"
   ]
  },
  {
   "cell_type": "code",
   "execution_count": 27,
   "id": "18531422",
   "metadata": {
    "execution": {
     "iopub.execute_input": "2022-08-12T04:48:53.902709Z",
     "iopub.status.busy": "2022-08-12T04:48:53.901805Z",
     "iopub.status.idle": "2022-08-12T04:48:55.248223Z",
     "shell.execute_reply": "2022-08-12T04:48:55.246781Z"
    },
    "papermill": {
     "duration": 1.367643,
     "end_time": "2022-08-12T04:48:55.251074",
     "exception": false,
     "start_time": "2022-08-12T04:48:53.883431",
     "status": "completed"
    },
    "tags": []
   },
   "outputs": [
    {
     "data": {
      "image/png": "[encoded data removed]",
      "text/plain": [
       "<Figure size 1296x720 with 12 Axes>"
      ]
     },
     "metadata": {
      "needs_background": "light"
     },
     "output_type": "display_data"
    }
   ],
   "source": [
    "# plot confusion matrix \n",
    "fig = plt.figure(figsize = (18,10))\n",
    "for i in range(len(cm_list)):\n",
    "    cm = cm_list[i]\n",
    "    model = model_list[i]\n",
    "    sub = fig.add_subplot(2, 3, i+1).set_title(model)\n",
    "    cm_plot = sns.heatmap(cm, annot=True, cmap=\"Blues_r\")\n",
    "    cm_plot.set_xlabel(\"Predicted Value\")\n",
    "    cm_plot.set_ylabel(\"Actual Value\")"
   ]
  },
  {
   "cell_type": "code",
   "execution_count": 28,
   "id": "4dd4d804",
   "metadata": {
    "execution": {
     "iopub.execute_input": "2022-08-12T04:48:55.290239Z",
     "iopub.status.busy": "2022-08-12T04:48:55.289823Z",
     "iopub.status.idle": "2022-08-12T04:48:55.304315Z",
     "shell.execute_reply": "2022-08-12T04:48:55.302636Z"
    },
    "papermill": {
     "duration": 0.037408,
     "end_time": "2022-08-12T04:48:55.307041",
     "exception": false,
     "start_time": "2022-08-12T04:48:55.269633",
     "status": "completed"
    },
    "tags": []
   },
   "outputs": [
    {
     "data": {
      "text/html": [
       "<div>\n",
       "<style scoped>\n",
       "    .dataframe tbody tr th:only-of-type {\n",
       "        vertical-align: middle;\n",
       "    }\n",
       "\n",
       "    .dataframe tbody tr th {\n",
       "        vertical-align: top;\n",
       "    }\n",
       "\n",
       "    .dataframe thead th {\n",
       "        text-align: right;\n",
       "    }\n",
       "</style>\n",
       "<table border=\"1\" class=\"dataframe\">\n",
       "  <thead>\n",
       "    <tr style=\"text-align: right;\">\n",
       "      <th></th>\n",
       "      <th>Model</th>\n",
       "      <th>Accuracy</th>\n",
       "      <th>AUC</th>\n",
       "    </tr>\n",
       "  </thead>\n",
       "  <tbody>\n",
       "    <tr>\n",
       "      <th>0</th>\n",
       "      <td>LogisticRegression</td>\n",
       "      <td>0.790114</td>\n",
       "      <td>0.50</td>\n",
       "    </tr>\n",
       "    <tr>\n",
       "      <th>1</th>\n",
       "      <td>SVC</td>\n",
       "      <td>0.790114</td>\n",
       "      <td>0.50</td>\n",
       "    </tr>\n",
       "    <tr>\n",
       "      <th>2</th>\n",
       "      <td>KNN</td>\n",
       "      <td>0.752603</td>\n",
       "      <td>0.51</td>\n",
       "    </tr>\n",
       "    <tr>\n",
       "      <th>3</th>\n",
       "      <td>Decision Tree</td>\n",
       "      <td>0.653745</td>\n",
       "      <td>0.50</td>\n",
       "    </tr>\n",
       "    <tr>\n",
       "      <th>4</th>\n",
       "      <td>Random Forest</td>\n",
       "      <td>0.789361</td>\n",
       "      <td>0.50</td>\n",
       "    </tr>\n",
       "    <tr>\n",
       "      <th>5</th>\n",
       "      <td>Naive Bayes</td>\n",
       "      <td>0.785849</td>\n",
       "      <td>0.51</td>\n",
       "    </tr>\n",
       "  </tbody>\n",
       "</table>\n",
       "</div>"
      ],
      "text/plain": [
       "                Model  Accuracy   AUC\n",
       "0  LogisticRegression  0.790114  0.50\n",
       "1                 SVC  0.790114  0.50\n",
       "2                 KNN  0.752603  0.51\n",
       "3       Decision Tree  0.653745  0.50\n",
       "4       Random Forest  0.789361  0.50\n",
       "5         Naive Bayes  0.785849  0.51"
      ]
     },
     "execution_count": 28,
     "metadata": {},
     "output_type": "execute_result"
    }
   ],
   "source": [
    "result_df = pd.DataFrame({\"Model\":model_list, \"Accuracy\":acc_list, \"AUC\":auc_list})\n",
    "result_df"
   ]
  },
  {
   "cell_type": "code",
   "execution_count": null,
   "id": "b364a27a",
   "metadata": {
    "papermill": {
     "duration": 0.01876,
     "end_time": "2022-08-12T04:48:55.345061",
     "exception": false,
     "start_time": "2022-08-12T04:48:55.326301",
     "status": "completed"
    },
    "tags": []
   },
   "outputs": [],
   "source": []
  }
 ],
 "metadata": {
  "kernelspec": {
   "display_name": "Python 3",
   "language": "python",
   "name": "python3"
  },
  "language_info": {
   "codemirror_mode": {
    "name": "ipython",
    "version": 3
   },
   "file_extension": ".py",
   "mimetype": "text/x-python",
   "name": "python",
   "nbconvert_exporter": "python",
   "pygments_lexer": "ipython3",
   "version": "3.7.12"
  },
  "papermill": {
   "default_parameters": {},
   "duration": 49.139956,
   "end_time": "2022-08-12T04:48:56.287832",
   "environment_variables": {},
   "exception": null,
   "input_path": "__notebook__.ipynb",
   "output_path": "__notebook__.ipynb",
   "parameters": {},
   "start_time": "2022-08-12T04:48:07.147876",
   "version": "2.3.4"
  }
 },
 "nbformat": 4,
 "nbformat_minor": 5
}
